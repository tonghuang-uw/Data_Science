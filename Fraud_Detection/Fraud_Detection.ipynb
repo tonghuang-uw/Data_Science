{
 "cells": [
  {
   "cell_type": "code",
   "execution_count": 1,
   "metadata": {},
   "outputs": [
    {
     "name": "stderr",
     "output_type": "stream",
     "text": [
      "/Users/tonghuang/opt/anaconda3/lib/python3.8/site-packages/pandas/core/computation/expressions.py:20: UserWarning: Pandas requires version '2.7.3' or newer of 'numexpr' (version '2.7.1' currently installed).\n",
      "  from pandas.core.computation.check import NUMEXPR_INSTALLED\n"
     ]
    }
   ],
   "source": [
    "import os\n",
    "import pandas as pd\n",
    "from sklearn.preprocessing import OneHotEncoder, StandardScaler\n",
    "from sklearn.compose import ColumnTransformer\n",
    "from sklearn.ensemble import RandomForestClassifier\n",
    "from sklearn.metrics import accuracy_score\n",
    "from sklearn.model_selection import cross_val_score\n",
    "from sklearn.metrics import roc_curve, roc_auc_score\n",
    "import matplotlib.pyplot as plt\n",
    "from sklearn.model_selection import cross_val_predict\n",
    "from sklearn.model_selection import RandomizedSearchCV\n",
    "from sklearn.metrics import precision_recall_curve\n",
    "from sklearn.model_selection import train_test_split\n",
    "from sklearn.metrics import classification_report\n",
    "import tensorflow as tf\n",
    "import keras_tuner as kt"
   ]
  },
  {
   "cell_type": "markdown",
   "metadata": {},
   "source": [
    "# 1.Introduction and Problem Statement"
   ]
  },
  {
   "cell_type": "markdown",
   "metadata": {},
   "source": [
    "In today's digital age, financial fraud has become a common problem that financial institutions struggle to cope with. Machine learning techniques can play a significant role in detecting fraudulent activities by learning from past transaction patterns.\n",
    "\n",
    "The goal of our project is to build models that can predict whether a transaction is fraudulent or not. The project involves the use of three machine learning algorithms: Random Forest, SVM and a Neural Network for this task.\n",
    "\n",
    "The data we are using is a simulated credit card transaction dataset, containing legitimate and fraudulent transactions.It was generated using the Sparkov Data Generation tool created by Brandon Harris, with both training and testing datasets provided.The simulation took place from 1st January 2019 to 31st December 2020, covering credit card transactions of 1000 customers with 800 merchants. Each instance in the dataset represents a transaction, with features like transaction amount, location, date and time of transaction, etc. The target variable we're trying to predict is a binary feature indicating whether the transaction is fraudulent or not."
   ]
  },
  {
   "cell_type": "markdown",
   "metadata": {},
   "source": [
    "# 2.Preprocessing data"
   ]
  },
  {
   "cell_type": "markdown",
   "metadata": {},
   "source": [
    "We performed several preprocessing steps before feeding the data into the machine learning models:\n",
    "\n",
    "The data was sorted based on credit card number and transaction time.\n",
    "\n",
    "A new feature, 'dist_merch_prev', was created which represents the distance between the current transaction merchant and the previous one.\n",
    "\n",
    "Days of the week and age of the cardholder were extracted from the transaction date and date of birth respectively.\n",
    "\n",
    "Some columns that were not useful for the modeling purpose, like 'trans_date_trans_time', 'cc_num', 'first', etc., were dropped.\n",
    "\n",
    "Also some colums that were hard to encode ,like'job','city',etc.,were dropped.\n",
    "\n",
    "The categorical features were one-hot encoded and numerical features were standardized."
   ]
  },
  {
   "cell_type": "code",
   "execution_count": 3,
   "metadata": {},
   "outputs": [],
   "source": [
    "train = pd.read_csv('fraudTrain.csv')\n",
    "test = pd.read_csv('fraudTest.csv')"
   ]
  },
  {
   "cell_type": "code",
   "execution_count": 4,
   "metadata": {},
   "outputs": [],
   "source": [
    "train['dataset'] = 'train'\n",
    "test['dataset'] = 'test'"
   ]
  },
  {
   "cell_type": "code",
   "execution_count": 5,
   "metadata": {},
   "outputs": [
    {
     "data": {
      "text/html": [
       "<div>\n",
       "<style scoped>\n",
       "    .dataframe tbody tr th:only-of-type {\n",
       "        vertical-align: middle;\n",
       "    }\n",
       "\n",
       "    .dataframe tbody tr th {\n",
       "        vertical-align: top;\n",
       "    }\n",
       "\n",
       "    .dataframe thead th {\n",
       "        text-align: right;\n",
       "    }\n",
       "</style>\n",
       "<table border=\"1\" class=\"dataframe\">\n",
       "  <thead>\n",
       "    <tr style=\"text-align: right;\">\n",
       "      <th></th>\n",
       "      <th>Unnamed: 0</th>\n",
       "      <th>trans_date_trans_time</th>\n",
       "      <th>cc_num</th>\n",
       "      <th>merchant</th>\n",
       "      <th>category</th>\n",
       "      <th>amt</th>\n",
       "      <th>first</th>\n",
       "      <th>last</th>\n",
       "      <th>gender</th>\n",
       "      <th>street</th>\n",
       "      <th>...</th>\n",
       "      <th>long</th>\n",
       "      <th>city_pop</th>\n",
       "      <th>job</th>\n",
       "      <th>dob</th>\n",
       "      <th>trans_num</th>\n",
       "      <th>unix_time</th>\n",
       "      <th>merch_lat</th>\n",
       "      <th>merch_long</th>\n",
       "      <th>is_fraud</th>\n",
       "      <th>dataset</th>\n",
       "    </tr>\n",
       "  </thead>\n",
       "  <tbody>\n",
       "    <tr>\n",
       "      <th>0</th>\n",
       "      <td>0</td>\n",
       "      <td>2019-01-01 00:00:18</td>\n",
       "      <td>2703186189652095</td>\n",
       "      <td>fraud_Rippin, Kub and Mann</td>\n",
       "      <td>misc_net</td>\n",
       "      <td>4.97</td>\n",
       "      <td>Jennifer</td>\n",
       "      <td>Banks</td>\n",
       "      <td>F</td>\n",
       "      <td>561 Perry Cove</td>\n",
       "      <td>...</td>\n",
       "      <td>-81.1781</td>\n",
       "      <td>3495</td>\n",
       "      <td>Psychologist, counselling</td>\n",
       "      <td>1988-03-09</td>\n",
       "      <td>0b242abb623afc578575680df30655b9</td>\n",
       "      <td>1325376018</td>\n",
       "      <td>36.011293</td>\n",
       "      <td>-82.048315</td>\n",
       "      <td>0</td>\n",
       "      <td>train</td>\n",
       "    </tr>\n",
       "    <tr>\n",
       "      <th>1</th>\n",
       "      <td>1</td>\n",
       "      <td>2019-01-01 00:00:44</td>\n",
       "      <td>630423337322</td>\n",
       "      <td>fraud_Heller, Gutmann and Zieme</td>\n",
       "      <td>grocery_pos</td>\n",
       "      <td>107.23</td>\n",
       "      <td>Stephanie</td>\n",
       "      <td>Gill</td>\n",
       "      <td>F</td>\n",
       "      <td>43039 Riley Greens Suite 393</td>\n",
       "      <td>...</td>\n",
       "      <td>-118.2105</td>\n",
       "      <td>149</td>\n",
       "      <td>Special educational needs teacher</td>\n",
       "      <td>1978-06-21</td>\n",
       "      <td>1f76529f8574734946361c461b024d99</td>\n",
       "      <td>1325376044</td>\n",
       "      <td>49.159047</td>\n",
       "      <td>-118.186462</td>\n",
       "      <td>0</td>\n",
       "      <td>train</td>\n",
       "    </tr>\n",
       "    <tr>\n",
       "      <th>2</th>\n",
       "      <td>2</td>\n",
       "      <td>2019-01-01 00:00:51</td>\n",
       "      <td>38859492057661</td>\n",
       "      <td>fraud_Lind-Buckridge</td>\n",
       "      <td>entertainment</td>\n",
       "      <td>220.11</td>\n",
       "      <td>Edward</td>\n",
       "      <td>Sanchez</td>\n",
       "      <td>M</td>\n",
       "      <td>594 White Dale Suite 530</td>\n",
       "      <td>...</td>\n",
       "      <td>-112.2620</td>\n",
       "      <td>4154</td>\n",
       "      <td>Nature conservation officer</td>\n",
       "      <td>1962-01-19</td>\n",
       "      <td>a1a22d70485983eac12b5b88dad1cf95</td>\n",
       "      <td>1325376051</td>\n",
       "      <td>43.150704</td>\n",
       "      <td>-112.154481</td>\n",
       "      <td>0</td>\n",
       "      <td>train</td>\n",
       "    </tr>\n",
       "  </tbody>\n",
       "</table>\n",
       "<p>3 rows × 24 columns</p>\n",
       "</div>"
      ],
      "text/plain": [
       "   Unnamed: 0 trans_date_trans_time            cc_num   \n",
       "0           0   2019-01-01 00:00:18  2703186189652095  \\\n",
       "1           1   2019-01-01 00:00:44      630423337322   \n",
       "2           2   2019-01-01 00:00:51    38859492057661   \n",
       "\n",
       "                          merchant       category     amt      first     last   \n",
       "0       fraud_Rippin, Kub and Mann       misc_net    4.97   Jennifer    Banks  \\\n",
       "1  fraud_Heller, Gutmann and Zieme    grocery_pos  107.23  Stephanie     Gill   \n",
       "2             fraud_Lind-Buckridge  entertainment  220.11     Edward  Sanchez   \n",
       "\n",
       "  gender                        street  ...      long city_pop   \n",
       "0      F                561 Perry Cove  ...  -81.1781     3495  \\\n",
       "1      F  43039 Riley Greens Suite 393  ... -118.2105      149   \n",
       "2      M      594 White Dale Suite 530  ... -112.2620     4154   \n",
       "\n",
       "                                 job         dob   \n",
       "0          Psychologist, counselling  1988-03-09  \\\n",
       "1  Special educational needs teacher  1978-06-21   \n",
       "2        Nature conservation officer  1962-01-19   \n",
       "\n",
       "                          trans_num   unix_time  merch_lat  merch_long   \n",
       "0  0b242abb623afc578575680df30655b9  1325376018  36.011293  -82.048315  \\\n",
       "1  1f76529f8574734946361c461b024d99  1325376044  49.159047 -118.186462   \n",
       "2  a1a22d70485983eac12b5b88dad1cf95  1325376051  43.150704 -112.154481   \n",
       "\n",
       "  is_fraud  dataset  \n",
       "0        0    train  \n",
       "1        0    train  \n",
       "2        0    train  \n",
       "\n",
       "[3 rows x 24 columns]"
      ]
     },
     "execution_count": 5,
     "metadata": {},
     "output_type": "execute_result"
    }
   ],
   "source": [
    "data = pd.concat([train,test], axis = 0)\n",
    "data.head(3)"
   ]
  },
  {
   "cell_type": "code",
   "execution_count": 6,
   "metadata": {},
   "outputs": [
    {
     "data": {
      "text/plain": [
       "(1852394, 24)"
      ]
     },
     "execution_count": 6,
     "metadata": {},
     "output_type": "execute_result"
    }
   ],
   "source": [
    "data.shape"
   ]
  },
  {
   "cell_type": "code",
   "execution_count": 7,
   "metadata": {},
   "outputs": [
    {
     "data": {
      "text/plain": [
       "(0, 24)"
      ]
     },
     "execution_count": 7,
     "metadata": {},
     "output_type": "execute_result"
    }
   ],
   "source": [
    "data[data.isnull().any(axis=1)].shape"
   ]
  },
  {
   "cell_type": "markdown",
   "metadata": {},
   "source": [
    " There are no missing values in the data."
   ]
  },
  {
   "cell_type": "code",
   "execution_count": 8,
   "metadata": {},
   "outputs": [
    {
     "data": {
      "text/plain": [
       "1017    0.000000\n",
       "2724    2.076668\n",
       "2726    0.949365\n",
       "2882    0.839911\n",
       "2907    1.275471\n",
       "Name: dist_merch_prev, dtype: float64"
      ]
     },
     "execution_count": 8,
     "metadata": {},
     "output_type": "execute_result"
    }
   ],
   "source": [
    "def calculate_distance(lat1, lon1, lat2, lon2):\n",
    "    distance = ((lat1 - lat2) ** 2 + (lon1 - lon2) ** 2) ** 0.5\n",
    "    return distance\n",
    "\n",
    "data = data.sort_values(['cc_num', 'unix_time'])\n",
    "\n",
    "data['prev_merch_lat'] = data.groupby(by = ['cc_num'])['merch_lat'].shift(1)\n",
    "data['prev_merch_long'] = data.groupby(by = ['cc_num'])['merch_long'].shift(1)\n",
    "\n",
    "data['prev_merch_lat'].fillna(data['merch_lat'], inplace=True)\n",
    "data['prev_merch_long'].fillna(data['merch_long'], inplace=True)\n",
    "\n",
    "data['dist_merch_prev'] = calculate_distance(data['merch_lat'], data['merch_long'], data['prev_merch_lat'], data['prev_merch_long'])\n",
    "\n",
    "data['dist_merch_prev'].head()"
   ]
  },
  {
   "cell_type": "markdown",
   "metadata": {},
   "source": [
    "Calculating the Euclidean distance between the current and previous merchant locations for each transaction."
   ]
  },
  {
   "cell_type": "code",
   "execution_count": 9,
   "metadata": {},
   "outputs": [
    {
     "data": {
      "text/plain": [
       "1017    1\n",
       "2724    2\n",
       "2726    2\n",
       "2882    2\n",
       "2907    2\n",
       "Name: trans_day_of_week, dtype: int32"
      ]
     },
     "execution_count": 9,
     "metadata": {},
     "output_type": "execute_result"
    }
   ],
   "source": [
    "data['trans_date_trans_time'] = pd.to_datetime(data['trans_date_trans_time'])\n",
    "data['trans_day_of_week'] = data['trans_date_trans_time'].dt.dayofweek\n",
    "data['trans_day_of_week'].head()"
   ]
  },
  {
   "cell_type": "markdown",
   "metadata": {},
   "source": [
    "Creating a new column 'trans_day_of_week', which represents the day of the week for each transaction."
   ]
  },
  {
   "cell_type": "code",
   "execution_count": 10,
   "metadata": {},
   "outputs": [
    {
     "data": {
      "text/plain": [
       "1017    32\n",
       "2724    32\n",
       "2726    32\n",
       "2882    32\n",
       "2907    32\n",
       "Name: age, dtype: int64"
      ]
     },
     "execution_count": 10,
     "metadata": {},
     "output_type": "execute_result"
    }
   ],
   "source": [
    "data['dob'] = pd.to_datetime(data['dob'])\n",
    "data['age'] = ((data['trans_date_trans_time'] - data['dob']).dt.days / 365.25).astype(int)\n",
    "data['age'].head()"
   ]
  },
  {
   "cell_type": "markdown",
   "metadata": {},
   "source": [
    "Creating a new column 'age',which represents the age of the card holder."
   ]
  },
  {
   "cell_type": "code",
   "execution_count": 11,
   "metadata": {},
   "outputs": [
    {
     "data": {
      "text/html": [
       "<div>\n",
       "<style scoped>\n",
       "    .dataframe tbody tr th:only-of-type {\n",
       "        vertical-align: middle;\n",
       "    }\n",
       "\n",
       "    .dataframe tbody tr th {\n",
       "        vertical-align: top;\n",
       "    }\n",
       "\n",
       "    .dataframe thead th {\n",
       "        text-align: right;\n",
       "    }\n",
       "</style>\n",
       "<table border=\"1\" class=\"dataframe\">\n",
       "  <thead>\n",
       "    <tr style=\"text-align: right;\">\n",
       "      <th></th>\n",
       "      <th>category</th>\n",
       "      <th>amt</th>\n",
       "      <th>gender</th>\n",
       "      <th>state</th>\n",
       "      <th>city_pop</th>\n",
       "      <th>is_fraud</th>\n",
       "      <th>dataset</th>\n",
       "      <th>dist_merch_prev</th>\n",
       "      <th>trans_day_of_week</th>\n",
       "      <th>age</th>\n",
       "    </tr>\n",
       "  </thead>\n",
       "  <tbody>\n",
       "    <tr>\n",
       "      <th>1017</th>\n",
       "      <td>misc_net</td>\n",
       "      <td>7.27</td>\n",
       "      <td>F</td>\n",
       "      <td>WY</td>\n",
       "      <td>1645</td>\n",
       "      <td>0</td>\n",
       "      <td>train</td>\n",
       "      <td>0.000000</td>\n",
       "      <td>1</td>\n",
       "      <td>32</td>\n",
       "    </tr>\n",
       "    <tr>\n",
       "      <th>2724</th>\n",
       "      <td>gas_transport</td>\n",
       "      <td>52.94</td>\n",
       "      <td>F</td>\n",
       "      <td>WY</td>\n",
       "      <td>1645</td>\n",
       "      <td>0</td>\n",
       "      <td>train</td>\n",
       "      <td>2.076668</td>\n",
       "      <td>2</td>\n",
       "      <td>32</td>\n",
       "    </tr>\n",
       "    <tr>\n",
       "      <th>2726</th>\n",
       "      <td>gas_transport</td>\n",
       "      <td>82.08</td>\n",
       "      <td>F</td>\n",
       "      <td>WY</td>\n",
       "      <td>1645</td>\n",
       "      <td>0</td>\n",
       "      <td>train</td>\n",
       "      <td>0.949365</td>\n",
       "      <td>2</td>\n",
       "      <td>32</td>\n",
       "    </tr>\n",
       "    <tr>\n",
       "      <th>2882</th>\n",
       "      <td>kids_pets</td>\n",
       "      <td>34.79</td>\n",
       "      <td>F</td>\n",
       "      <td>WY</td>\n",
       "      <td>1645</td>\n",
       "      <td>0</td>\n",
       "      <td>train</td>\n",
       "      <td>0.839911</td>\n",
       "      <td>2</td>\n",
       "      <td>32</td>\n",
       "    </tr>\n",
       "    <tr>\n",
       "      <th>2907</th>\n",
       "      <td>home</td>\n",
       "      <td>27.18</td>\n",
       "      <td>F</td>\n",
       "      <td>WY</td>\n",
       "      <td>1645</td>\n",
       "      <td>0</td>\n",
       "      <td>train</td>\n",
       "      <td>1.275471</td>\n",
       "      <td>2</td>\n",
       "      <td>32</td>\n",
       "    </tr>\n",
       "  </tbody>\n",
       "</table>\n",
       "</div>"
      ],
      "text/plain": [
       "           category    amt gender state  city_pop  is_fraud dataset   \n",
       "1017       misc_net   7.27      F    WY      1645         0   train  \\\n",
       "2724  gas_transport  52.94      F    WY      1645         0   train   \n",
       "2726  gas_transport  82.08      F    WY      1645         0   train   \n",
       "2882      kids_pets  34.79      F    WY      1645         0   train   \n",
       "2907           home  27.18      F    WY      1645         0   train   \n",
       "\n",
       "      dist_merch_prev  trans_day_of_week  age  \n",
       "1017         0.000000                  1   32  \n",
       "2724         2.076668                  2   32  \n",
       "2726         0.949365                  2   32  \n",
       "2882         0.839911                  2   32  \n",
       "2907         1.275471                  2   32  "
      ]
     },
     "execution_count": 11,
     "metadata": {},
     "output_type": "execute_result"
    }
   ],
   "source": [
    "cols_to_drop = ['Unnamed: 0', 'trans_date_trans_time', 'cc_num', 'first', 'last', 'street', \n",
    "                'dob','merchant','zip','trans_num','lat','unix_time',\n",
    "               'long','merch_lat','merch_long','prev_merch_lat','prev_merch_long','city','job']\n",
    "new_data = data.drop(cols_to_drop, axis=1)\n",
    "new_data.head()"
   ]
  },
  {
   "cell_type": "markdown",
   "metadata": {},
   "source": [
    " Removing columns that are not useful for the subsequent modeling process."
   ]
  },
  {
   "cell_type": "code",
   "execution_count": 12,
   "metadata": {},
   "outputs": [],
   "source": [
    "train = new_data[new_data['dataset'] == 'train'].drop('dataset', axis=1)\n",
    "test = new_data[new_data['dataset'] == 'test'].drop('dataset', axis=1)\n",
    "train.reset_index(drop=True, inplace = True)\n",
    "test.reset_index(drop=True, inplace = True)\n",
    "\n",
    "X_train_raw = train.drop('is_fraud', axis=1)\n",
    "X_test_raw = test.drop('is_fraud', axis=1)\n",
    "\n",
    "y_train = train['is_fraud']\n",
    "y_test = test['is_fraud']"
   ]
  },
  {
   "cell_type": "markdown",
   "metadata": {},
   "source": [
    "Splitting the preprocessed data back into separate train and test datasets."
   ]
  },
  {
   "cell_type": "code",
   "execution_count": 17,
   "metadata": {},
   "outputs": [
    {
     "name": "stderr",
     "output_type": "stream",
     "text": [
      "/Users/tonghuang/opt/anaconda3/lib/python3.8/site-packages/sklearn/preprocessing/_encoders.py:868: FutureWarning: `sparse` was renamed to `sparse_output` in version 1.2 and will be removed in 1.4. `sparse_output` is ignored unless you leave `sparse` to its default value.\n",
      "  warnings.warn(\n"
     ]
    }
   ],
   "source": [
    "categorical_cols = ['category', 'gender', 'state']\n",
    "numeric_cols = ['amt', 'city_pop', 'dist_merch_prev', 'trans_day_of_week', 'age']\n",
    "\n",
    "preprocessing = ColumnTransformer(\n",
    "    transformers=[\n",
    "        ('cat', OneHotEncoder(handle_unknown='ignore', sparse = False), categorical_cols),\n",
    "        ('num', StandardScaler(), numeric_cols)\n",
    "    ])\n",
    "\n",
    "X_train = preprocessing.fit_transform(X_train_raw)\n",
    "X_test = preprocessing.transform(X_test_raw)"
   ]
  },
  {
   "cell_type": "markdown",
   "metadata": {},
   "source": [
    "Applying the columntransformer to both the train and test sets."
   ]
  },
  {
   "cell_type": "markdown",
   "metadata": {},
   "source": [
    "# 3.Model Building"
   ]
  },
  {
   "cell_type": "markdown",
   "metadata": {},
   "source": [
    "Three models were built for the purpose of this study:\n",
    "\n",
    "Hanjiang Xue implemented RandomForest.\n",
    "\n",
    "Tong Huang implemented SVM.\n",
    "\n",
    "We implemented Neural Network together."
   ]
  },
  {
   "cell_type": "markdown",
   "metadata": {},
   "source": [
    "### (i) Random Forest "
   ]
  },
  {
   "cell_type": "markdown",
   "metadata": {},
   "source": [
    "A Random Forest model was built with 100 trees，a maximum depth of 5 and \"class_weight=\"balanced\" to help handle unbalanced classes..Further, the parameters of the model were fine-tuned using RandomizedSearchCV."
   ]
  },
  {
   "cell_type": "code",
   "execution_count": 13,
   "metadata": {},
   "outputs": [],
   "source": [
    "rf_clf = RandomForestClassifier(n_estimators=100,max_depth=5,n_jobs=-1,\n",
    "                                random_state=42,class_weight=\"balanced\")"
   ]
  },
  {
   "cell_type": "code",
   "execution_count": 14,
   "metadata": {},
   "outputs": [
    {
     "name": "stdout",
     "output_type": "stream",
     "text": [
      "Average cross-validation score on train: 0.9716312877166599\n"
     ]
    }
   ],
   "source": [
    "scores = cross_val_score(rf_clf, X_train, y_train, cv=3)\n",
    "print(\"Average cross-validation score on train:\",scores.mean())"
   ]
  },
  {
   "cell_type": "code",
   "execution_count": 15,
   "metadata": {},
   "outputs": [
    {
     "data": {
      "image/png": "[encoded data removed]",
      "text/plain": [
       "<Figure size 640x480 with 1 Axes>"
      ]
     },
     "metadata": {},
     "output_type": "display_data"
    }
   ],
   "source": [
    "rf_clf.fit(X_train, y_train)\n",
    "y_scores_train = rf_clf.predict_proba(X_train)\n",
    "y_scores_train = y_scores_train[:, 1]\n",
    "\n",
    "fpr_rf, tpr_rf, thresholds_rf = roc_curve(y_train, y_scores_train)\n",
    "\n",
    "plt.plot(fpr_rf, tpr_rf, \"r-\", label=\"Random Forest\")\n",
    "plt.xlabel(\"FPR\", fontsize=16)\n",
    "plt.ylabel(\"TPR\", fontsize=16)\n",
    "plt.legend(loc=\"lower right\", fontsize=16)\n",
    "plt.axis([0, 1, 0, 1])\n",
    "plt.show()"
   ]
  },
  {
   "cell_type": "code",
   "execution_count": 16,
   "metadata": {},
   "outputs": [
    {
     "name": "stdout",
     "output_type": "stream",
     "text": [
      "Train ROC AUC:  0.944285545193628\n"
     ]
    }
   ],
   "source": [
    "auc_score = roc_auc_score(y_train, y_scores_train)\n",
    "print(\"Train ROC AUC: \", auc_score)"
   ]
  },
  {
   "cell_type": "code",
   "execution_count": 17,
   "metadata": {},
   "outputs": [
    {
     "name": "stdout",
     "output_type": "stream",
     "text": [
      "Best parameters:  {'n_estimators': 400, 'max_depth': 20}\n",
      "Best score:  0.991005524667996\n"
     ]
    }
   ],
   "source": [
    "param_distribs = {\n",
    "    'n_estimators': [200, 300,400],\n",
    "    'max_depth': [5, 10, 20],\n",
    "}\n",
    "\n",
    "X_train_sample, _, y_train_sample, _ = train_test_split(X_train, y_train, test_size=0.5, random_state=42)\n",
    "\n",
    "rf = RandomForestClassifier(random_state=42,class_weight=\"balanced\")\n",
    "\n",
    "rnd_search = RandomizedSearchCV(rf, param_distribs, cv=3,n_iter=8, n_jobs=-1,scoring='roc_auc', random_state=42)\n",
    "rnd_search.fit(X_train_sample, y_train_sample)\n",
    "\n",
    "print(\"Best parameters: \", rnd_search.best_params_)\n",
    "print(\"Best score: \", rnd_search.best_score_)"
   ]
  },
  {
   "cell_type": "code",
   "execution_count": 23,
   "metadata": {},
   "outputs": [
    {
     "name": "stdout",
     "output_type": "stream",
     "text": [
      "Test ROC AUC:  0.9900052250422753\n"
     ]
    }
   ],
   "source": [
    "best_rf_clf = rnd_search.best_estimator_\n",
    "y_scores_test = best_rf_clf.predict_proba(X_test)\n",
    "y_scores_test = y_scores_test[:, 1]\n",
    "auc_score_test = roc_auc_score(y_test, y_scores_test)\n",
    "print(\"Test ROC AUC: \", auc_score_test)"
   ]
  },
  {
   "cell_type": "code",
   "execution_count": 21,
   "metadata": {},
   "outputs": [
    {
     "data": {
      "image/png": "[encoded data removed]",
      "text/plain": [
       "<Figure size 800x400 with 1 Axes>"
      ]
     },
     "metadata": {},
     "output_type": "display_data"
    }
   ],
   "source": [
    "from sklearn.metrics import precision_recall_curve\n",
    "\n",
    "def plot_precision_recall_vs_threshold(precisions, recalls, thresholds):\n",
    "    plt.plot(thresholds, precisions[:-1], \"b--\", label=\"Precision\", linewidth=2)\n",
    "    plt.plot(thresholds, recalls[:-1], \"g-\", label=\"Recall\", linewidth=2)\n",
    "    plt.xlabel(\"Threshold\", fontsize=16)\n",
    "    plt.legend(loc=\"lower left\", fontsize=16)\n",
    "    plt.ylim([0, 1])\n",
    "    \n",
    "plt.figure(figsize=(8, 4))\n",
    "precisions, recalls, thresholds = precision_recall_curve(y_test,y_scores_test)\n",
    "plot_precision_recall_vs_threshold(precisions, recalls, thresholds)\n",
    "plt.xlim([thresholds.min(), thresholds.max()])\n",
    "plt.show()"
   ]
  },
  {
   "cell_type": "code",
   "execution_count": 24,
   "metadata": {},
   "outputs": [
    {
     "name": "stdout",
     "output_type": "stream",
     "text": [
      "              precision    recall  f1-score   support\n",
      "\n",
      "           0       1.00      1.00      1.00    553574\n",
      "           1       0.46      0.80      0.59      2145\n",
      "\n",
      "    accuracy                           1.00    555719\n",
      "   macro avg       0.73      0.90      0.79    555719\n",
      "weighted avg       1.00      1.00      1.00    555719\n",
      "\n"
     ]
    }
   ],
   "source": [
    "y_pred_test = best_rf_clf.predict(X_test)\n",
    "print(classification_report(y_test, y_pred_test))"
   ]
  },
  {
   "cell_type": "markdown",
   "metadata": {},
   "source": [
    "### (iii) Neural Network"
   ]
  },
  {
   "cell_type": "markdown",
   "metadata": {},
   "source": [
    "A Neural Network model was built using Keras Tuner for hyperparameter optimization. The model consists of an Input Layer followed by a Batch Normalization layer, several Dense layers with ReLU activation, and a final Dense layer with Sigmoid activation. "
   ]
  },
  {
   "cell_type": "code",
   "execution_count": 17,
   "metadata": {},
   "outputs": [],
   "source": [
    "X_train = preprocessing.fit_transform(X_train_raw).toarray()\n",
    "X_test = preprocessing.transform(X_test_raw).toarray()\n",
    "X_train_sample, X_valid, y_train_sample, y_valid = train_test_split(X_train, y_train, test_size=0.2, random_state=42)"
   ]
  },
  {
   "cell_type": "code",
   "execution_count": 21,
   "metadata": {},
   "outputs": [
    {
     "name": "stdout",
     "output_type": "stream",
     "text": [
      "Trial 10 Complete [00h 21m 22s]\n",
      "val_loss: 0.025771094486117363\n",
      "\n",
      "Best val_loss So Far: 0.02379993349313736\n",
      "Total elapsed time: 03h 20m 26s\n",
      "INFO:tensorflow:Oracle triggered exit\n",
      "Trial 04 summary\n",
      "Hyperparameters:\n",
      "n_hidden: 5\n",
      "n_neurons: 45\n",
      "learning_rate: 0.0008960175671873151\n",
      "dropout_rate: 0.2\n",
      "l2: 0.00016308979287756595\n",
      "Score: 0.02379993349313736\n"
     ]
    }
   ],
   "source": [
    "def build_model(hp):\n",
    "    n_hidden = hp.Int(\"n_hidden\", min_value=1, max_value=5)\n",
    "    n_neurons = hp.Int(\"n_neurons\", min_value=1, max_value=100)\n",
    "    learning_rate = hp.Float(\"learning_rate\", min_value=1e-4, max_value=1e-2,\n",
    "                             sampling=\"log\")\n",
    "    dropout_rate = hp.Float('dropout_rate', 0, 0.5, step=0.1)\n",
    "    kernel_regularizer=tf.keras.regularizers.l2(hp.Float(\"l2\", 1e-4, 1e-1, sampling=\"log\"))\n",
    "    optimizer = tf.keras.optimizers.SGD(momentum=0.9, nesterov=True)\n",
    "    model = tf.keras.Sequential()\n",
    "    model.add(tf.keras.layers.InputLayer(input_shape=X_train_sample.shape[1:]))\n",
    "    model.add(tf.keras.layers.BatchNormalization())\n",
    "    for _ in range(n_hidden):\n",
    "        model.add(tf.keras.layers.Dense(n_neurons,kernel_regularizer=kernel_regularizer, activation=\"relu\"))\n",
    "        model.add(tf.keras.layers.Dropout(dropout_rate))\n",
    "    model.add(tf.keras.layers.Dense(1, activation=\"sigmoid\"))\n",
    "    model.compile(optimizer=optimizer, loss='binary_crossentropy', metrics=[\"AUC\"])\n",
    "    return model\n",
    "\n",
    "tuner = kt.RandomSearch(build_model,\n",
    "                        objective='val_loss',\n",
    "                        max_trials=10, \n",
    "                        seed=42,\n",
    "                        overwrite=True,\n",
    "                        directory=\"C:\\\\Users\\\\xhj62\",\n",
    "                        project_name='my_rnd_search')\n",
    "\n",
    "tuner.search(X_train_sample, y_train_sample, epochs=10, validation_data=(X_valid, y_valid))\n",
    "\n",
    "best_trial = tuner.oracle.get_best_trials(num_trials=1)[0]\n",
    "best_trial.summary()"
   ]
  },
  {
   "cell_type": "code",
   "execution_count": 26,
   "metadata": {},
   "outputs": [
    {
     "name": "stdout",
     "output_type": "stream",
     "text": [
      "Epoch 1/10\n",
      "40522/40522 - 182s - loss: 0.0238 - auc: 0.8917 - val_loss: 0.0264 - val_auc: 0.8760 - lr: 0.0100 - 182s/epoch - 4ms/step\n",
      "Epoch 2/10\n",
      "40522/40522 - 184s - loss: 0.0236 - auc: 0.8949 - val_loss: 0.0253 - val_auc: 0.8950 - lr: 0.0089 - 184s/epoch - 5ms/step\n",
      "Epoch 3/10\n",
      "40522/40522 - 184s - loss: 0.0236 - auc: 0.8938 - val_loss: 0.0243 - val_auc: 0.9210 - lr: 0.0079 - 184s/epoch - 5ms/step\n",
      "Epoch 4/10\n",
      "40522/40522 - 184s - loss: 0.0233 - auc: 0.8977 - val_loss: 0.0248 - val_auc: 0.9107 - lr: 0.0071 - 184s/epoch - 5ms/step\n",
      "Epoch 5/10\n",
      "40522/40522 - 182s - loss: 0.0231 - auc: 0.8987 - val_loss: 0.0267 - val_auc: 0.8680 - lr: 0.0063 - 182s/epoch - 4ms/step\n",
      "Epoch 6/10\n",
      "40522/40522 - 182s - loss: 0.0228 - auc: 0.9028 - val_loss: 0.0354 - val_auc: 0.6894 - lr: 0.0056 - 182s/epoch - 4ms/step\n",
      "Epoch 7/10\n",
      "40522/40522 - 183s - loss: 0.0226 - auc: 0.9039 - val_loss: 0.0257 - val_auc: 0.9086 - lr: 0.0050 - 183s/epoch - 5ms/step\n",
      "Epoch 8/10\n",
      "40522/40522 - 183s - loss: 0.0226 - auc: 0.9030 - val_loss: 0.0273 - val_auc: 0.8566 - lr: 0.0045 - 183s/epoch - 5ms/step\n",
      "Epoch 9/10\n",
      "40522/40522 - 183s - loss: 0.0226 - auc: 0.9043 - val_loss: 0.0271 - val_auc: 0.8609 - lr: 0.0040 - 183s/epoch - 5ms/step\n",
      "Epoch 10/10\n",
      "40522/40522 - 183s - loss: 0.0223 - auc: 0.9047 - val_loss: 0.0255 - val_auc: 0.9230 - lr: 0.0035 - 183s/epoch - 5ms/step\n"
     ]
    },
    {
     "data": {
      "text/plain": [
       "<Figure size 600x400 with 0 Axes>"
      ]
     },
     "metadata": {},
     "output_type": "display_data"
    },
    {
     "data": {
      "image/png": "[encoded data removed]",
      "text/plain": [
       "<Figure size 640x480 with 1 Axes>"
      ]
     },
     "metadata": {},
     "output_type": "display_data"
    }
   ],
   "source": [
    "def exponential_decay(lr0, s):\n",
    "    return lambda epoch: lr0 * 0.1**(epoch / s)\n",
    "\n",
    "lr_scheduler = tf.keras.callbacks.LearningRateScheduler(exponential_decay(lr0=0.01, s=20))\n",
    "early_stopping_cb = tf.keras.callbacks.EarlyStopping(patience=10, restore_best_weights=True, monitor='val_auc', mode='max')\n",
    "\n",
    "best_model = tuner.get_best_models(num_models=1)[0]\n",
    "optimizer = tf.keras.optimizers.SGD(learning_rate=0.01, momentum=0.9, nesterov=True)\n",
    "best_model.compile(optimizer=optimizer, loss='binary_crossentropy', metrics=[\"AUC\"])\n",
    "\n",
    "history = best_model.fit(X_train, y_train, epochs=10,\n",
    "                         validation_data=(X_valid, y_valid),verbose=2, callbacks=[early_stopping_cb, lr_scheduler])\n",
    "\n",
    "plt.figure(figsize=(6, 4))\n",
    "pd.DataFrame(history.history).plot(grid=True, xlabel=\"Epoch\")\n",
    "plt.legend(loc=\"upper right\")\n",
    "plt.show()"
   ]
  },
  {
   "cell_type": "code",
   "execution_count": 27,
   "metadata": {},
   "outputs": [
    {
     "name": "stdout",
     "output_type": "stream",
     "text": [
      "17367/17367 [==============================] - 42s 2ms/step\n",
      "Test ROC AUC:  0.9697871499533066\n"
     ]
    }
   ],
   "source": [
    "y_pred_probs = best_model.predict(X_test)\n",
    "auc_score = roc_auc_score(y_test, y_pred_probs)\n",
    "print(\"Test ROC AUC: \", auc_score)"
   ]
  },
  {
   "cell_type": "code",
   "execution_count": 29,
   "metadata": {},
   "outputs": [
    {
     "name": "stdout",
     "output_type": "stream",
     "text": [
      "              precision    recall  f1-score   support\n",
      "\n",
      "           0       1.00      1.00      1.00    553574\n",
      "           1       0.31      0.30      0.30      2145\n",
      "\n",
      "    accuracy                           0.99    555719\n",
      "   macro avg       0.65      0.65      0.65    555719\n",
      "weighted avg       0.99      0.99      0.99    555719\n",
      "\n"
     ]
    }
   ],
   "source": [
    "y_pred = (y_pred_probs > 0.5).astype(int)\n",
    "print(classification_report(y_test, y_pred))"
   ]
  },
  {
   "cell_type": "code",
   "execution_count": null,
   "metadata": {},
   "outputs": [],
   "source": [
    "from sklearn.linear_model import LogisticRegression\n",
    "from sklearn.model_selection import cross_val_predict, RandomizedSearchCV\n",
    "from sklearn.metrics import roc_auc_score, classification_report, confusion_matrix"
   ]
  },
  {
   "cell_type": "markdown",
   "metadata": {},
   "source": [
    "### (V) Support Vector Machine"
   ]
  },
  {
   "cell_type": "code",
   "execution_count": 36,
   "metadata": {},
   "outputs": [],
   "source": [
    "from sklearn.model_selection import RandomizedSearchCV\n",
    "from sklearn.svm import SVC\n",
    "from scipy.stats import uniform, loguniform\n",
    "from sklearn.model_selection import train_test_split\n",
    "from sklearn.manifold import TSNE\n",
    "from sklearn.decomposition import PCA\n",
    "from sklearn.preprocessing import StandardScaler\n",
    "from sklearn.model_selection import GridSearchCV\n",
    "import numpy as np\n",
    "\n",
    "X_train_sample, _, y_train_sample, _ = train_test_split(X_train, y_train, test_size=0.6, random_state=42)"
   ]
  },
  {
   "cell_type": "code",
   "execution_count": 119,
   "metadata": {},
   "outputs": [],
   "source": [
    "standard = StandardScaler()\n",
    "X_standard = standard.fit_transform(X_train_sample)"
   ]
  },
  {
   "cell_type": "code",
   "execution_count": 152,
   "metadata": {},
   "outputs": [
    {
     "name": "stdout",
     "output_type": "stream",
     "text": [
      "CPU times: user 24min 56s, sys: 14.5 s, total: 25min 11s\n",
      "Wall time: 4h 15min 40s\n"
     ]
    },
    {
     "name": "stderr",
     "output_type": "stream",
     "text": [
      "/Users/tonghuang/opt/anaconda3/lib/python3.8/site-packages/sklearn/svm/_base.py:299: ConvergenceWarning: Solver terminated early (max_iter=30000).  Consider pre-processing your data with StandardScaler or MinMaxScaler.\n",
      "  warnings.warn(\n"
     ]
    },
    {
     "data": {
      "text/html": [
       "<style>#sk-container-id-15 {color: black;background-color: white;}#sk-container-id-15 pre{padding: 0;}#sk-container-id-15 div.sk-toggleable {background-color: white;}#sk-container-id-15 label.sk-toggleable__label {cursor: pointer;display: block;width: 100%;margin-bottom: 0;padding: 0.3em;box-sizing: border-box;text-align: center;}#sk-container-id-15 label.sk-toggleable__label-arrow:before {content: \"▸\";float: left;margin-right: 0.25em;color: #696969;}#sk-container-id-15 label.sk-toggleable__label-arrow:hover:before {color: black;}#sk-container-id-15 div.sk-estimator:hover label.sk-toggleable__label-arrow:before {color: black;}#sk-container-id-15 div.sk-toggleable__content {max-height: 0;max-width: 0;overflow: hidden;text-align: left;background-color: #f0f8ff;}#sk-container-id-15 div.sk-toggleable__content pre {margin: 0.2em;color: black;border-radius: 0.25em;background-color: #f0f8ff;}#sk-container-id-15 input.sk-toggleable__control:checked~div.sk-toggleable__content {max-height: 200px;max-width: 100%;overflow: auto;}#sk-container-id-15 input.sk-toggleable__control:checked~label.sk-toggleable__label-arrow:before {content: \"▾\";}#sk-container-id-15 div.sk-estimator input.sk-toggleable__control:checked~label.sk-toggleable__label {background-color: #d4ebff;}#sk-container-id-15 div.sk-label input.sk-toggleable__control:checked~label.sk-toggleable__label {background-color: #d4ebff;}#sk-container-id-15 input.sk-hidden--visually {border: 0;clip: rect(1px 1px 1px 1px);clip: rect(1px, 1px, 1px, 1px);height: 1px;margin: -1px;overflow: hidden;padding: 0;position: absolute;width: 1px;}#sk-container-id-15 div.sk-estimator {font-family: monospace;background-color: #f0f8ff;border: 1px dotted black;border-radius: 0.25em;box-sizing: border-box;margin-bottom: 0.5em;}#sk-container-id-15 div.sk-estimator:hover {background-color: #d4ebff;}#sk-container-id-15 div.sk-parallel-item::after {content: \"\";width: 100%;border-bottom: 1px solid gray;flex-grow: 1;}#sk-container-id-15 div.sk-label:hover label.sk-toggleable__label {background-color: #d4ebff;}#sk-container-id-15 div.sk-serial::before {content: \"\";position: absolute;border-left: 1px solid gray;box-sizing: border-box;top: 0;bottom: 0;left: 50%;z-index: 0;}#sk-container-id-15 div.sk-serial {display: flex;flex-direction: column;align-items: center;background-color: white;padding-right: 0.2em;padding-left: 0.2em;position: relative;}#sk-container-id-15 div.sk-item {position: relative;z-index: 1;}#sk-container-id-15 div.sk-parallel {display: flex;align-items: stretch;justify-content: center;background-color: white;position: relative;}#sk-container-id-15 div.sk-item::before, #sk-container-id-15 div.sk-parallel-item::before {content: \"\";position: absolute;border-left: 1px solid gray;box-sizing: border-box;top: 0;bottom: 0;left: 50%;z-index: -1;}#sk-container-id-15 div.sk-parallel-item {display: flex;flex-direction: column;z-index: 1;position: relative;background-color: white;}#sk-container-id-15 div.sk-parallel-item:first-child::after {align-self: flex-end;width: 50%;}#sk-container-id-15 div.sk-parallel-item:last-child::after {align-self: flex-start;width: 50%;}#sk-container-id-15 div.sk-parallel-item:only-child::after {width: 0;}#sk-container-id-15 div.sk-dashed-wrapped {border: 1px dashed gray;margin: 0 0.4em 0.5em 0.4em;box-sizing: border-box;padding-bottom: 0.4em;background-color: white;}#sk-container-id-15 div.sk-label label {font-family: monospace;font-weight: bold;display: inline-block;line-height: 1.2em;}#sk-container-id-15 div.sk-label-container {text-align: center;}#sk-container-id-15 div.sk-container {/* jupyter's `normalize.less` sets `[hidden] { display: none; }` but bootstrap.min.css set `[hidden] { display: none !important; }` so we also need the `!important` here to be able to override the default hidden behavior on the sphinx rendered scikit-learn.org. See: https://github.com/scikit-learn/scikit-learn/issues/21755 */display: inline-block !important;position: relative;}#sk-container-id-15 div.sk-text-repr-fallback {display: none;}</style><div id=\"sk-container-id-15\" class=\"sk-top-container\"><div class=\"sk-text-repr-fallback\"><pre>RandomizedSearchCV(cv=3,\n",
       "                   estimator=SVC(class_weight={0: 1, 1: 200}, max_iter=30000,\n",
       "                                 random_state=42),\n",
       "                   n_iter=5, n_jobs=-1,\n",
       "                   param_distributions={&#x27;C&#x27;: &lt;scipy.stats._distn_infrastructure.rv_continuous_frozen object at 0x7fa5dc86d100&gt;,\n",
       "                                        &#x27;gamma&#x27;: &lt;scipy.stats._distn_infrastructure.rv_continuous_frozen object at 0x7fa5dc88c2b0&gt;},\n",
       "                   scoring=&#x27;roc_auc&#x27;)</pre><b>In a Jupyter environment, please rerun this cell to show the HTML representation or trust the notebook. <br />On GitHub, the HTML representation is unable to render, please try loading this page with nbviewer.org.</b></div><div class=\"sk-container\" hidden><div class=\"sk-item sk-dashed-wrapped\"><div class=\"sk-label-container\"><div class=\"sk-label sk-toggleable\"><input class=\"sk-toggleable__control sk-hidden--visually\" id=\"sk-estimator-id-31\" type=\"checkbox\" ><label for=\"sk-estimator-id-31\" class=\"sk-toggleable__label sk-toggleable__label-arrow\">RandomizedSearchCV</label><div class=\"sk-toggleable__content\"><pre>RandomizedSearchCV(cv=3,\n",
       "                   estimator=SVC(class_weight={0: 1, 1: 200}, max_iter=30000,\n",
       "                                 random_state=42),\n",
       "                   n_iter=5, n_jobs=-1,\n",
       "                   param_distributions={&#x27;C&#x27;: &lt;scipy.stats._distn_infrastructure.rv_continuous_frozen object at 0x7fa5dc86d100&gt;,\n",
       "                                        &#x27;gamma&#x27;: &lt;scipy.stats._distn_infrastructure.rv_continuous_frozen object at 0x7fa5dc88c2b0&gt;},\n",
       "                   scoring=&#x27;roc_auc&#x27;)</pre></div></div></div><div class=\"sk-parallel\"><div class=\"sk-parallel-item\"><div class=\"sk-item\"><div class=\"sk-label-container\"><div class=\"sk-label sk-toggleable\"><input class=\"sk-toggleable__control sk-hidden--visually\" id=\"sk-estimator-id-32\" type=\"checkbox\" ><label for=\"sk-estimator-id-32\" class=\"sk-toggleable__label sk-toggleable__label-arrow\">estimator: SVC</label><div class=\"sk-toggleable__content\"><pre>SVC(class_weight={0: 1, 1: 200}, max_iter=30000, random_state=42)</pre></div></div></div><div class=\"sk-serial\"><div class=\"sk-item\"><div class=\"sk-estimator sk-toggleable\"><input class=\"sk-toggleable__control sk-hidden--visually\" id=\"sk-estimator-id-33\" type=\"checkbox\" ><label for=\"sk-estimator-id-33\" class=\"sk-toggleable__label sk-toggleable__label-arrow\">SVC</label><div class=\"sk-toggleable__content\"><pre>SVC(class_weight={0: 1, 1: 200}, max_iter=30000, random_state=42)</pre></div></div></div></div></div></div></div></div></div></div>"
      ],
      "text/plain": [
       "RandomizedSearchCV(cv=3,\n",
       "                   estimator=SVC(class_weight={0: 1, 1: 200}, max_iter=30000,\n",
       "                                 random_state=42),\n",
       "                   n_iter=5, n_jobs=-1,\n",
       "                   param_distributions={'C': <scipy.stats._distn_infrastructure.rv_continuous_frozen object at 0x7fa5dc86d100>,\n",
       "                                        'gamma': <scipy.stats._distn_infrastructure.rv_continuous_frozen object at 0x7fa5dc88c2b0>},\n",
       "                   scoring='roc_auc')"
      ]
     },
     "execution_count": 152,
     "metadata": {},
     "output_type": "execute_result"
    }
   ],
   "source": [
    "%%time\n",
    "svc_clf1 = SVC(max_iter = 30000, class_weight = {0:1, 1:200}, random_state=42)\n",
    "\n",
    "param_grid = {\n",
    "    'C': uniform(0,10),\n",
    "    'gamma': loguniform(0.0001, 0.1)\n",
    "}\n",
    "\n",
    "gridSearch = RandomizedSearchCV(svc_clf1, param_grid, cv = 3, n_iter = 5, n_jobs=-1, scoring = \"roc_auc\")\n",
    "gridSearch.fit(X_standard, y_train_sample)"
   ]
  },
  {
   "cell_type": "code",
   "execution_count": 157,
   "metadata": {},
   "outputs": [
    {
     "name": "stdout",
     "output_type": "stream",
     "text": [
      "The best training ROC AUC score is 0.9429360994078854\n"
     ]
    }
   ],
   "source": [
    "print(\"The best training ROC AUC score is {}\".format(gridSearch.best_score_))"
   ]
  },
  {
   "cell_type": "code",
   "execution_count": 154,
   "metadata": {},
   "outputs": [],
   "source": [
    "ypred = gridSearch.best_estimator_.predict(X_test_standard)"
   ]
  },
  {
   "cell_type": "code",
   "execution_count": 155,
   "metadata": {},
   "outputs": [
    {
     "name": "stdout",
     "output_type": "stream",
     "text": [
      "              precision    recall  f1-score   support\n",
      "\n",
      "           0       1.00      0.91      0.95    553574\n",
      "           1       0.03      0.73      0.06      2145\n",
      "\n",
      "    accuracy                           0.91    555719\n",
      "   macro avg       0.51      0.82      0.50    555719\n",
      "weighted avg       1.00      0.91      0.95    555719\n",
      "\n"
     ]
    }
   ],
   "source": [
    "print(classification_report(y_test, ypred))"
   ]
  },
  {
   "cell_type": "markdown",
   "metadata": {},
   "source": [
    "### (VI) SGD Classifier"
   ]
  },
  {
   "cell_type": "code",
   "execution_count": 159,
   "metadata": {},
   "outputs": [
    {
     "name": "stdout",
     "output_type": "stream",
     "text": [
      "              precision    recall  f1-score   support\n",
      "\n",
      "           0       1.00      0.95      0.98    553574\n",
      "           1       0.06      0.75      0.11      2145\n",
      "\n",
      "    accuracy                           0.95    555719\n",
      "   macro avg       0.53      0.85      0.54    555719\n",
      "weighted avg       1.00      0.95      0.97    555719\n",
      "\n"
     ]
    }
   ],
   "source": [
    "from sklearn.linear_model import SGDClassifier\n",
    "\n",
    "sgd_clf = SGDClassifier(class_weight = \"balanced\", random_state=42)\n",
    "\n",
    "params = {\"alpha\": loguniform(0.0001, 0.1)}\n",
    "\n",
    "random_sgd_search = RandomizedSearchCV(sgd_clf, params, cv = 3, n_iter=5, n_jobs = -1, scoring = \"roc_auc\")\n",
    "random_sgd_search.fit(X_train_sample, y_train_sample)\n",
    "\n",
    "sgd_result = random_sgd_search.best_estimator_.predict(X_test)\n",
    "print(classification_report(y_test, sgd_result))"
   ]
  },
  {
   "cell_type": "code",
   "execution_count": 162,
   "metadata": {},
   "outputs": [
    {
     "name": "stdout",
     "output_type": "stream",
     "text": [
      "The best training ROC AUC is 0.8765353084852793\n"
     ]
    }
   ],
   "source": [
    "print(\"The best training ROC AUC is {}\".format(random_sgd_search.best_score_))"
   ]
  },
  {
   "cell_type": "markdown",
   "metadata": {},
   "source": [
    "# 4.Conclusion"
   ]
  },
  {
   "cell_type": "markdown",
   "metadata": {},
   "source": [
    "The goal of this project was to develop models that can predict the outcome of a binary event with high precision and recall. Three types of models were implemented: a Random Forest model, SVM model, a Deep Neural Network (DNN) model. All models were evaluated using various metrics including ROC AUC score, precision, recall, and the F1 score. In the context of detecting fraudulent transaction, recall(sensitivity) is particularly relevant because maximizing on identifying the fraudulent transcation is important.\n",
    "\n",
    "From the results obtained, the Random Forest model performed exceptionally well with a training ROC AUC score of 0.944, a testing ROC AUC score of 0.990, and an average cross-validation score of 0.972. The precision for class 1 (minority class) was 0.46, and it had an impressive recall rate of 0.80. This indicates that the Random Forest model was able to predict the majority of the positive class instances correctly, though at the cost of a higher number of false positives .\n",
    "\n",
    "On the other hand, the default DNN model, which contains one hidden layer with 50 neurons, had a testing ROC AUC score of 0.976. The precision for class 1 is 0.76 and the recall for class 1 is 0.56. The DNN model after hyperparameters optimization had a testing ROC AUC score of 0.88. The precision for the minority class in the DNN model was 0.26, with a recall of 0.46. It is surprising that the default DNN model performed better than the one after hyperparameter optimization. Compared to the Random Forest model, the default DNN model performed less efficiently in detecting the fraudulent transaction, but its predicted fraudulent transactions are likely to be true.\n",
    "\n",
    "Support Vector Machine performs worse than other models. The training ROC AUC score of SVM is 0.94. The precision and the recall for class 1 are only 0.03 and 0.73. Altertively, the Stochastic Gradient Descent model is used for linear SVM. It had low precision of 0.06, but higher recall of 0.75. A potential resample for imbalanced data may help the model to improve. These scores are worse than both DNN and Random Forest.\n",
    "\n",
    "In conclusion, the high recall score of the Random Forest model implies that it was able to correctly identify a high proportion of positive instances, making it the more reliable model for this particular binary classification task."
   ]
  },
  {
   "cell_type": "code",
   "execution_count": null,
   "metadata": {},
   "outputs": [],
   "source": []
  }
 ],
 "metadata": {
  "kernelspec": {
   "display_name": "Python 3",
   "language": "python",
   "name": "python3"
  },
  "language_info": {
   "codemirror_mode": {
    "name": "ipython",
    "version": 3
   },
   "file_extension": ".py",
   "mimetype": "text/x-python",
   "name": "python",
   "nbconvert_exporter": "python",
   "pygments_lexer": "ipython3",
   "version": "3.8.5"
  }
 },
 "nbformat": 4,
 "nbformat_minor": 5
}
